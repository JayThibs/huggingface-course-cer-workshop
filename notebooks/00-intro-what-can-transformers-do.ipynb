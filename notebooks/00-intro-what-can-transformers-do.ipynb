{
 "cells": [
  {
   "cell_type": "markdown",
   "metadata": {},
   "source": [
    "# Transformers, what can they do?\n",
    "\n",
    "This is an introductory notebook to quickly go over the main tasks we can do with the `Transformers` library.\n",
    "\n",
    "We'll start by import the pipeline module. The pipeline module is the \"higher-level\" API for the library. It allows you to quickly use pre-trained models on a given task. All you need to do is specify the task you want to perform. However, as we'll see, you can also specify the model you want to use.\n",
    "\n",
    "Notice in the next cell that we first instantiate the pipeline object, and then we classify the sentiment of a given sentence."
   ]
  },
  {
   "cell_type": "code",
   "execution_count": null,
   "metadata": {},
   "outputs": [],
   "source": []
  },
  {
   "cell_type": "code",
   "execution_count": 5,
   "metadata": {},
   "outputs": [
    {
     "name": "stderr",
     "output_type": "stream",
     "text": [
      "No model was supplied, defaulted to distilbert-base-uncased-finetuned-sst-2-english (https://huggingface.co/distilbert-base-uncased-finetuned-sst-2-english)\n"
     ]
    },
    {
     "data": {
      "text/plain": [
       "[{'label': 'POSITIVE', 'score': 0.9881473183631897}]"
      ]
     },
     "execution_count": 5,
     "metadata": {},
     "output_type": "execute_result"
    }
   ],
   "source": [
    "from transformers import pipeline\n",
    "\n",
    "classifier = pipeline(\"sentiment-analysis\")\n",
    "classifier(\"I've been waiting for the Huggingface course my whole life!\")"
   ]
  },
  {
   "cell_type": "markdown",
   "metadata": {},
   "source": [
    "As we can see, the pre-trained model is downloaded from the Huggingface model hub, and then it is used to classify the sentiment of the sentence. In this case, the pre-trained model was a model from the BERT class of models: `DistilBERT-base-uncased`. The model was fine-tuned on English text with the task of classify the sentiment of a sentence.\n",
    "\n",
    "Note: once the model has been downloaded, it is cached on your machine. This speeds up future runs of the notebook since you won't have to download it again.\n",
    "\n",
    "Now, let's pass a list of strings to the classifier."
   ]
  },
  {
   "cell_type": "code",
   "execution_count": 7,
   "metadata": {},
   "outputs": [
    {
     "data": {
      "text/plain": [
       "[{'label': 'POSITIVE', 'score': 0.9881473183631897},\n",
       " {'label': 'NEGATIVE', 'score': 0.9995144605636597}]"
      ]
     },
     "execution_count": 7,
     "metadata": {},
     "output_type": "execute_result"
    }
   ],
   "source": [
    "classifier([\"I've been waiting for the Huggingface course my whole life!\", \n",
    "\"I hate this so much\"])"
   ]
  },
  {
   "cell_type": "markdown",
   "metadata": {},
   "source": [
    "Notice that "
   ]
  },
  {
   "cell_type": "code",
   "execution_count": null,
   "metadata": {},
   "outputs": [],
   "source": []
  }
 ],
 "metadata": {
  "interpreter": {
   "hash": "42b00840b7eaa013a76dbb9cad3644204271d8b923086de33fb5f3b75d0b142f"
  },
  "kernelspec": {
   "display_name": "Python 3.7.11 64-bit ('berdi': conda)",
   "language": "python",
   "name": "python3"
  },
  "language_info": {
   "codemirror_mode": {
    "name": "ipython",
    "version": 3
   },
   "file_extension": ".py",
   "mimetype": "text/x-python",
   "name": "python",
   "nbconvert_exporter": "python",
   "pygments_lexer": "ipython3",
   "version": "3.7.11"
  },
  "orig_nbformat": 4
 },
 "nbformat": 4,
 "nbformat_minor": 2
}
