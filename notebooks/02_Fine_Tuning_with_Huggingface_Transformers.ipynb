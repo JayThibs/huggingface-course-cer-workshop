{
  "cells": [
    {
      "cell_type": "markdown",
      "metadata": {
        "id": "view-in-github",
        "colab_type": "text"
      },
      "source": [
        "<a href=\"https://colab.research.google.com/github/JayThibs/huggingface-course-cer-workshop/blob/main/notebooks/02_Fine_Tuning_with_Huggingface_Transformers.ipynb\" target=\"_parent\"><img src=\"https://colab.research.google.com/assets/colab-badge.svg\" alt=\"Open In Colab\"/></a>"
      ]
    },
    {
      "cell_type": "markdown",
      "source": [
        "# \n",
        "\n",
        "Credit: A big portion of this notebook is from the people at Huggingface, credit to them.\n",
        "\n",
        "Things I've added:\n",
        "\n",
        "* More detailed explanations of concepts.\n",
        "* Added dynamic padding for tokenization.\n",
        "* Training with PyTorch Lightning to simplify training loop.\n",
        "* Used custom dataset.\n",
        "\n",
        "Note from Jacques: In order to speed up workshop prep, I'm going to be borrowing their example notebook on fine-tuning models with the transformers library. Many of their example notebooks can be found here: https://huggingface.co/docs/transformers/notebooks."
      ],
      "metadata": {
        "id": "z_ZpJa-ikU6j"
      }
    },
    {
      "cell_type": "markdown",
      "source": [
        "# Installations"
      ],
      "metadata": {
        "id": "t-q4lBcGoa-i"
      }
    },
    {
      "cell_type": "code",
      "execution_count": null,
      "metadata": {
        "id": "Ah0GLf5HkEqW",
        "colab": {
          "base_uri": "https://localhost:8080/"
        },
        "outputId": "7e1a71f7-e1b5-4de6-acd5-96b89b1a58fb"
      },
      "outputs": [
        {
          "output_type": "stream",
          "name": "stdout",
          "text": [
            "\u001b[K     |████████████████████████████████| 525 kB 5.1 MB/s \n",
            "\u001b[K     |████████████████████████████████| 332 kB 70.5 MB/s \n",
            "\u001b[K     |████████████████████████████████| 829 kB 82.0 MB/s \n",
            "\u001b[?25h  Building wheel for future (setup.py) ... \u001b[?25l\u001b[?25hdone\n"
          ]
        }
      ],
      "source": [
        "# Transformers installation\n",
        "! pip install transformers datasets pytorch-lightning -q"
      ]
    },
    {
      "cell_type": "markdown",
      "source": [
        "# Imports"
      ],
      "metadata": {
        "id": "N_en0MnUocUY"
      }
    },
    {
      "cell_type": "code",
      "source": [
        "import numpy as np\n",
        "from datasets import load_dataset\n",
        "from datasets import load_metric\n",
        "from torch.utils.data import DataLoader\n",
        "from transformers import AutoTokenizer\n",
        "from transformers import DataCollatorWithPadding\n",
        "from transformers import AutoModelForSequenceClassification\n",
        "from transformers import TrainingArguments\n",
        "from transformers import Trainer"
      ],
      "metadata": {
        "id": "CH5SOeUooeU1"
      },
      "execution_count": 103,
      "outputs": []
    },
    {
      "cell_type": "markdown",
      "metadata": {
        "id": "GUOfYm3DkEqZ"
      },
      "source": [
        "# Fine-tuning a pretrained model"
      ]
    },
    {
      "cell_type": "markdown",
      "metadata": {
        "id": "a7tYxBwEkEqa"
      },
      "source": [
        "In this tutorial, we will show you how to fine-tune a pretrained model from the Transformers library. In TensorFlow,\n",
        "models can be directly trained using Keras and the `fit` method. In PyTorch, there is no generic training loop so\n",
        "the 🤗 Transformers library provides an API with the class [Trainer](https://huggingface.co/docs/transformers/master/en/main_classes/trainer#transformers.Trainer) to let you fine-tune or train\n",
        "a model from scratch easily. Then we will show you how to alternatively write the whole training loop in PyTorch. \n",
        "\n",
        "**Jacques Note:** If you don't want to use the Huggingface Trainer API for some reason (like wanting more customization for your model), I would suggest using PyTorch Lightning with Huggingface since Lightning makes it so much easier to train models than Pure PyTorch.\n",
        "\n",
        "Before we can fine-tune a model, we need a dataset. In this tutorial, we will show you how to fine-tune BERT on the\n",
        "[IMDB dataset](https://www.imdb.com/interfaces/): the task is to classify whether movie reviews are positive or\n",
        "negative. For examples of other tasks, refer to the [additional-resources](#additional-resources) section!\n",
        "\n",
        "<a id='data-processing'></a>"
      ]
    },
    {
      "cell_type": "markdown",
      "metadata": {
        "id": "80NL35XgkEqa"
      },
      "source": [
        "## Preparing the datasets"
      ]
    },
    {
      "cell_type": "code",
      "execution_count": null,
      "metadata": {
        "cellView": "form",
        "hide_input": true,
        "id": "9TOF8CVTkEqb",
        "outputId": "acdcde50-c760-4ad7-f6c2-57fb729433c2",
        "colab": {
          "base_uri": "https://localhost:8080/",
          "height": 337
        }
      },
      "outputs": [
        {
          "output_type": "execute_result",
          "data": {
            "text/html": [
              "<iframe width=\"560\" height=\"315\" src=\"https://www.youtube.com/embed/_BZearw7f0w?rel=0&amp;controls=0&amp;showinfo=0\" frameborder=\"0\" allowfullscreen></iframe>"
            ],
            "text/plain": [
              "<IPython.core.display.HTML object>"
            ]
          },
          "metadata": {},
          "execution_count": 7
        }
      ],
      "source": [
        "#@title\n",
        "from IPython.display import HTML\n",
        "\n",
        "HTML('<iframe width=\"560\" height=\"315\" src=\"https://www.youtube.com/embed/_BZearw7f0w?rel=0&amp;controls=0&amp;showinfo=0\" frameborder=\"0\" allowfullscreen></iframe>')"
      ]
    },
    {
      "cell_type": "markdown",
      "metadata": {
        "id": "O0vuASnIkEqc"
      },
      "source": [
        "We will use the [🤗 Datasets](https://github.com/huggingface/datasets/) library to download and preprocess the IMDB\n",
        "datasets. We will go over this part pretty quickly. Since the focus of this tutorial is on training, you should refer\n",
        "to the 🤗 Datasets [documentation](https://huggingface.co/docs/datasets/) or the [preprocessing](https://huggingface.co/docs/transformers/master/en/preprocessing) tutorial for\n",
        "more information.\n",
        "\n",
        "First, we can use the `load_dataset` function to download and cache the dataset:"
      ]
    },
    {
      "cell_type": "code",
      "execution_count": null,
      "metadata": {
        "id": "bU-qowwbkEqc",
        "colab": {
          "base_uri": "https://localhost:8080/",
          "height": 67,
          "referenced_widgets": [
            "7d1f7ccfa98e4abab5a7334197cd8b89",
            "27546cb762b348ec9aa916212a88460a",
            "ac5d7e797c5f40a9a34ca843706672f6",
            "7f790352bf96477596a89ed9987f8282",
            "63cce633f4ee42a4b45ec91297facf68",
            "bf57298f127c473fadf52c2d3b406f55",
            "95390c2486a44266a65dbd07a9dd3729",
            "58e63c7f718b4a9fab7838f3f5b91607",
            "a57841b1fb9b449383ffe3e910980171",
            "80d671b824bd42ce8027481bfa05aa3b",
            "6951a02ff8bf4c0880ff5cd4a2079507"
          ]
        },
        "outputId": "909016d2-2662-4720-bb55-8da9cee25391"
      },
      "outputs": [
        {
          "output_type": "stream",
          "name": "stderr",
          "text": [
            "Reusing dataset imdb (/root/.cache/huggingface/datasets/imdb/plain_text/1.0.0/2fdd8b9bcadd6e7055e742a706876ba43f19faee861df134affd7a3f60fc38a1)\n"
          ]
        },
        {
          "output_type": "display_data",
          "data": {
            "application/vnd.jupyter.widget-view+json": {
              "model_id": "7d1f7ccfa98e4abab5a7334197cd8b89",
              "version_minor": 0,
              "version_major": 2
            },
            "text/plain": [
              "  0%|          | 0/3 [00:00<?, ?it/s]"
            ]
          },
          "metadata": {}
        }
      ],
      "source": [
        "raw_datasets = load_dataset(\"imdb\")"
      ]
    },
    {
      "cell_type": "code",
      "source": [
        "raw_datasets"
      ],
      "metadata": {
        "colab": {
          "base_uri": "https://localhost:8080/"
        },
        "id": "KjpKF8HDqEf1",
        "outputId": "10bb7b9b-f660-4a16-822d-f6852dfaf943"
      },
      "execution_count": null,
      "outputs": [
        {
          "output_type": "execute_result",
          "data": {
            "text/plain": [
              "DatasetDict({\n",
              "    train: Dataset({\n",
              "        features: ['text', 'label'],\n",
              "        num_rows: 25000\n",
              "    })\n",
              "    test: Dataset({\n",
              "        features: ['text', 'label'],\n",
              "        num_rows: 25000\n",
              "    })\n",
              "    unsupervised: Dataset({\n",
              "        features: ['text', 'label'],\n",
              "        num_rows: 50000\n",
              "    })\n",
              "})"
            ]
          },
          "metadata": {},
          "execution_count": 9
        }
      ]
    },
    {
      "cell_type": "code",
      "source": [
        "raw_datasets['train'][0]"
      ],
      "metadata": {
        "colab": {
          "base_uri": "https://localhost:8080/"
        },
        "id": "d4Aw1SFyqRTZ",
        "outputId": "8b81ee9e-94ac-46cb-d94e-db1b15b7efd1"
      },
      "execution_count": null,
      "outputs": [
        {
          "output_type": "execute_result",
          "data": {
            "text/plain": [
              "{'label': 0,\n",
              " 'text': 'I rented I AM CURIOUS-YELLOW from my video store because of all the controversy that surrounded it when it was first released in 1967. I also heard that at first it was seized by U.S. customs if it ever tried to enter this country, therefore being a fan of films considered \"controversial\" I really had to see this for myself.<br /><br />The plot is centered around a young Swedish drama student named Lena who wants to learn everything she can about life. In particular she wants to focus her attentions to making some sort of documentary on what the average Swede thought about certain political issues such as the Vietnam War and race issues in the United States. In between asking politicians and ordinary denizens of Stockholm about their opinions on politics, she has sex with her drama teacher, classmates, and married men.<br /><br />What kills me about I AM CURIOUS-YELLOW is that 40 years ago, this was considered pornographic. Really, the sex and nudity scenes are few and far between, even then it\\'s not shot like some cheaply made porno. While my countrymen mind find it shocking, in reality sex and nudity are a major staple in Swedish cinema. Even Ingmar Bergman, arguably their answer to good old boy John Ford, had sex scenes in his films.<br /><br />I do commend the filmmakers for the fact that any sex shown in the film is shown for artistic purposes rather than just to shock people and make money to be shown in pornographic theaters in America. I AM CURIOUS-YELLOW is a good film for anyone wanting to study the meat and potatoes (no pun intended) of Swedish cinema. But really, this film doesn\\'t have much of a plot.'}"
            ]
          },
          "metadata": {},
          "execution_count": 10
        }
      ]
    },
    {
      "cell_type": "markdown",
      "metadata": {
        "id": "K2b6ieNCkEqd"
      },
      "source": [
        "This works like the `from_pretrained` method we saw for the models and tokenizers (except the cache directory is\n",
        "_~/.cache/huggingface/dataset_ by default).\n",
        "\n",
        "The `raw_datasets` object is a dictionary with three keys: `\"train\"`, `\"test\"` and `\"unsupervised\"`\n",
        "(which correspond to the three splits of that dataset). We will use the `\"train\"` split for training and the\n",
        "`\"test\"` split for validation.\n",
        "\n",
        "To preprocess our data, we will need a tokenizer:"
      ]
    },
    {
      "cell_type": "code",
      "execution_count": 57,
      "metadata": {
        "id": "hcfPlYEHkEqe"
      },
      "outputs": [],
      "source": [
        "tokenizer = AutoTokenizer.from_pretrained(\"bert-base-cased\")"
      ]
    },
    {
      "cell_type": "markdown",
      "metadata": {
        "id": "Kuo4I1_ukEqe"
      },
      "source": [
        "As we saw in [preprocessing](https://huggingface.co/docs/transformers/master/en/preprocessing), we can prepare the text inputs for the model with the following command (this is an\n",
        "example, not a command you can execute):"
      ]
    },
    {
      "cell_type": "code",
      "execution_count": 58,
      "metadata": {
        "id": "jXI1ijqOkEqf"
      },
      "outputs": [],
      "source": [
        "# inputs = tokenizer(sentences, padding=\"max_length\", truncation=True)"
      ]
    },
    {
      "cell_type": "markdown",
      "metadata": {
        "id": "Ydn5pW2OkEqf"
      },
      "source": [
        "This will make all the samples have the maximum length the model can accept (here 512), either by padding or truncating\n",
        "them.\n",
        "\n",
        "However, we can instead apply these preprocessing steps to all the splits of our dataset at once by using the\n",
        "`map` method:"
      ]
    },
    {
      "cell_type": "code",
      "execution_count": 102,
      "metadata": {
        "id": "3zwH9wgukEqg"
      },
      "outputs": [],
      "source": [
        "def tokenize_function(examples):\n",
        "    return tokenizer(examples[\"text\"], truncation=True)"
      ]
    },
    {
      "cell_type": "markdown",
      "source": [
        "However, before we move forward, we want to use dynamic padding so that our model can train faster. Dynamic padding makes it so that the number of tokens for every batch is dependent on the example in the batch with the most tokens. Without dynamic padding, all batches will have the same size based on the max token length chosen at the beginning. This makes it so we are doing unnecessary operations during training, thereby increasing training time. The extra operations come from the unnecessary padding applied to a batch.\n",
        "\n",
        "For example, let's say we have two sentences:\n",
        "\n",
        "```\n",
        "\"I think this is an amazing workshop!\"\n",
        "and\n",
        "\"Huggingface is cool!\"\n",
        "```\n",
        "\n",
        "But our max token length is 20, we will be applying an excess amount of padding in order to make both sentences the same size. That is the point of padding! To make all sentences match in number of tokens. For this batch, the max number of tokens is based on the first sentence, which is 8. Therefore, if we tokenize with dynamic padding, we will get:\n",
        "\n",
        "```\n",
        "\"I think this is an amazing workshop !\"\n",
        "and\n",
        "\"Huggingface is cool ! <PAD> <PAD> <PAD> <PAD>\"\n",
        "```\n",
        "\n",
        "Instead of (if max token length was uniformly 20 across batch):\n",
        "\n",
        "```\n",
        "\"I think this is an amazing workshop ! <PAD> <PAD> <PAD> <PAD> <PAD> <PAD> <PAD> <PAD> <PAD> <PAD> <PAD> <PAD>\"\n",
        "and\n",
        "\"Huggingface is cool ! <PAD> <PAD> <PAD> <PAD> <PAD> <PAD> <PAD> <PAD> <PAD> <PAD> <PAD> <PAD> <PAD> <PAD> <PAD> <PAD>\"\n",
        "```\n",
        "\n",
        "See how much unecessary calculations our model would need to do with the extra padding? That is why dynamic padding is useful.\n",
        "\n",
        "That said, dynamic padding is optional and we only use it when training with GPUs or CPUs. We cannot use dynamic padding when training on a TPU."
      ],
      "metadata": {
        "id": "HBE7UNd7f2O1"
      }
    },
    {
      "cell_type": "code",
      "source": [
        "data_collator = DataCollatorWithPadding(tokenizer=tokenizer)"
      ],
      "metadata": {
        "id": "IwaOkOnlYMsg"
      },
      "execution_count": 63,
      "outputs": []
    },
    {
      "cell_type": "code",
      "source": [
        "samples = tokenized_datasets[\"train\"][60:65]\n",
        "samples = {k: v for k, v in samples.items() if k not in [\"idx\", \"text\"]}\n",
        "[len(x) for x in samples[\"input_ids\"]]"
      ],
      "metadata": {
        "colab": {
          "base_uri": "https://localhost:8080/"
        },
        "id": "iO_ISkYqYRXS",
        "outputId": "3b82f139-3ec2-44f8-cf8a-60b4d0a3282f"
      },
      "execution_count": 75,
      "outputs": [
        {
          "output_type": "execute_result",
          "data": {
            "text/plain": [
              "[264, 242, 220, 405, 172]"
            ]
          },
          "metadata": {},
          "execution_count": 75
        }
      ]
    },
    {
      "cell_type": "code",
      "source": [
        "samples.items()"
      ],
      "metadata": {
        "colab": {
          "base_uri": "https://localhost:8080/"
        },
        "id": "u3-zsE5acgiW",
        "outputId": "544799c0-7846-42a8-d808-d20c11541ef0"
      },
      "execution_count": 76,
      "outputs": [
        {
          "output_type": "execute_result",
          "data": {
            "text/plain": [
              "dict_items([('attention_mask', [[1, 1, 1, 1, 1, 1, 1, 1, 1, 1, 1, 1, 1, 1, 1, 1, 1, 1, 1, 1, 1, 1, 1, 1, 1, 1, 1, 1, 1, 1, 1, 1, 1, 1, 1, 1, 1, 1, 1, 1, 1, 1, 1, 1, 1, 1, 1, 1, 1, 1, 1, 1, 1, 1, 1, 1, 1, 1, 1, 1, 1, 1, 1, 1, 1, 1, 1, 1, 1, 1, 1, 1, 1, 1, 1, 1, 1, 1, 1, 1, 1, 1, 1, 1, 1, 1, 1, 1, 1, 1, 1, 1, 1, 1, 1, 1, 1, 1, 1, 1, 1, 1, 1, 1, 1, 1, 1, 1, 1, 1, 1, 1, 1, 1, 1, 1, 1, 1, 1, 1, 1, 1, 1, 1, 1, 1, 1, 1, 1, 1, 1, 1, 1, 1, 1, 1, 1, 1, 1, 1, 1, 1, 1, 1, 1, 1, 1, 1, 1, 1, 1, 1, 1, 1, 1, 1, 1, 1, 1, 1, 1, 1, 1, 1, 1, 1, 1, 1, 1, 1, 1, 1, 1, 1, 1, 1, 1, 1, 1, 1, 1, 1, 1, 1, 1, 1, 1, 1, 1, 1, 1, 1, 1, 1, 1, 1, 1, 1, 1, 1, 1, 1, 1, 1, 1, 1, 1, 1, 1, 1, 1, 1, 1, 1, 1, 1, 1, 1, 1, 1, 1, 1, 1, 1, 1, 1, 1, 1, 1, 1, 1, 1, 1, 1, 1, 1, 1, 1, 1, 1, 1, 1, 1, 1, 1, 1, 1, 1, 1, 1, 1, 1, 1, 1, 1, 1, 1, 1, 1, 1, 1, 1, 1, 1], [1, 1, 1, 1, 1, 1, 1, 1, 1, 1, 1, 1, 1, 1, 1, 1, 1, 1, 1, 1, 1, 1, 1, 1, 1, 1, 1, 1, 1, 1, 1, 1, 1, 1, 1, 1, 1, 1, 1, 1, 1, 1, 1, 1, 1, 1, 1, 1, 1, 1, 1, 1, 1, 1, 1, 1, 1, 1, 1, 1, 1, 1, 1, 1, 1, 1, 1, 1, 1, 1, 1, 1, 1, 1, 1, 1, 1, 1, 1, 1, 1, 1, 1, 1, 1, 1, 1, 1, 1, 1, 1, 1, 1, 1, 1, 1, 1, 1, 1, 1, 1, 1, 1, 1, 1, 1, 1, 1, 1, 1, 1, 1, 1, 1, 1, 1, 1, 1, 1, 1, 1, 1, 1, 1, 1, 1, 1, 1, 1, 1, 1, 1, 1, 1, 1, 1, 1, 1, 1, 1, 1, 1, 1, 1, 1, 1, 1, 1, 1, 1, 1, 1, 1, 1, 1, 1, 1, 1, 1, 1, 1, 1, 1, 1, 1, 1, 1, 1, 1, 1, 1, 1, 1, 1, 1, 1, 1, 1, 1, 1, 1, 1, 1, 1, 1, 1, 1, 1, 1, 1, 1, 1, 1, 1, 1, 1, 1, 1, 1, 1, 1, 1, 1, 1, 1, 1, 1, 1, 1, 1, 1, 1, 1, 1, 1, 1, 1, 1, 1, 1, 1, 1, 1, 1, 1, 1, 1, 1, 1, 1, 1, 1, 1, 1, 1, 1, 1, 1, 1, 1, 1, 1], [1, 1, 1, 1, 1, 1, 1, 1, 1, 1, 1, 1, 1, 1, 1, 1, 1, 1, 1, 1, 1, 1, 1, 1, 1, 1, 1, 1, 1, 1, 1, 1, 1, 1, 1, 1, 1, 1, 1, 1, 1, 1, 1, 1, 1, 1, 1, 1, 1, 1, 1, 1, 1, 1, 1, 1, 1, 1, 1, 1, 1, 1, 1, 1, 1, 1, 1, 1, 1, 1, 1, 1, 1, 1, 1, 1, 1, 1, 1, 1, 1, 1, 1, 1, 1, 1, 1, 1, 1, 1, 1, 1, 1, 1, 1, 1, 1, 1, 1, 1, 1, 1, 1, 1, 1, 1, 1, 1, 1, 1, 1, 1, 1, 1, 1, 1, 1, 1, 1, 1, 1, 1, 1, 1, 1, 1, 1, 1, 1, 1, 1, 1, 1, 1, 1, 1, 1, 1, 1, 1, 1, 1, 1, 1, 1, 1, 1, 1, 1, 1, 1, 1, 1, 1, 1, 1, 1, 1, 1, 1, 1, 1, 1, 1, 1, 1, 1, 1, 1, 1, 1, 1, 1, 1, 1, 1, 1, 1, 1, 1, 1, 1, 1, 1, 1, 1, 1, 1, 1, 1, 1, 1, 1, 1, 1, 1, 1, 1, 1, 1, 1, 1, 1, 1, 1, 1, 1, 1, 1, 1, 1, 1, 1, 1, 1, 1, 1, 1, 1, 1], [1, 1, 1, 1, 1, 1, 1, 1, 1, 1, 1, 1, 1, 1, 1, 1, 1, 1, 1, 1, 1, 1, 1, 1, 1, 1, 1, 1, 1, 1, 1, 1, 1, 1, 1, 1, 1, 1, 1, 1, 1, 1, 1, 1, 1, 1, 1, 1, 1, 1, 1, 1, 1, 1, 1, 1, 1, 1, 1, 1, 1, 1, 1, 1, 1, 1, 1, 1, 1, 1, 1, 1, 1, 1, 1, 1, 1, 1, 1, 1, 1, 1, 1, 1, 1, 1, 1, 1, 1, 1, 1, 1, 1, 1, 1, 1, 1, 1, 1, 1, 1, 1, 1, 1, 1, 1, 1, 1, 1, 1, 1, 1, 1, 1, 1, 1, 1, 1, 1, 1, 1, 1, 1, 1, 1, 1, 1, 1, 1, 1, 1, 1, 1, 1, 1, 1, 1, 1, 1, 1, 1, 1, 1, 1, 1, 1, 1, 1, 1, 1, 1, 1, 1, 1, 1, 1, 1, 1, 1, 1, 1, 1, 1, 1, 1, 1, 1, 1, 1, 1, 1, 1, 1, 1, 1, 1, 1, 1, 1, 1, 1, 1, 1, 1, 1, 1, 1, 1, 1, 1, 1, 1, 1, 1, 1, 1, 1, 1, 1, 1, 1, 1, 1, 1, 1, 1, 1, 1, 1, 1, 1, 1, 1, 1, 1, 1, 1, 1, 1, 1, 1, 1, 1, 1, 1, 1, 1, 1, 1, 1, 1, 1, 1, 1, 1, 1, 1, 1, 1, 1, 1, 1, 1, 1, 1, 1, 1, 1, 1, 1, 1, 1, 1, 1, 1, 1, 1, 1, 1, 1, 1, 1, 1, 1, 1, 1, 1, 1, 1, 1, 1, 1, 1, 1, 1, 1, 1, 1, 1, 1, 1, 1, 1, 1, 1, 1, 1, 1, 1, 1, 1, 1, 1, 1, 1, 1, 1, 1, 1, 1, 1, 1, 1, 1, 1, 1, 1, 1, 1, 1, 1, 1, 1, 1, 1, 1, 1, 1, 1, 1, 1, 1, 1, 1, 1, 1, 1, 1, 1, 1, 1, 1, 1, 1, 1, 1, 1, 1, 1, 1, 1, 1, 1, 1, 1, 1, 1, 1, 1, 1, 1, 1, 1, 1, 1, 1, 1, 1, 1, 1, 1, 1, 1, 1, 1, 1, 1, 1, 1, 1, 1, 1, 1, 1, 1, 1, 1, 1, 1, 1, 1, 1, 1, 1, 1, 1, 1, 1, 1, 1, 1, 1, 1, 1, 1, 1, 1, 1, 1, 1, 1, 1, 1, 1, 1], [1, 1, 1, 1, 1, 1, 1, 1, 1, 1, 1, 1, 1, 1, 1, 1, 1, 1, 1, 1, 1, 1, 1, 1, 1, 1, 1, 1, 1, 1, 1, 1, 1, 1, 1, 1, 1, 1, 1, 1, 1, 1, 1, 1, 1, 1, 1, 1, 1, 1, 1, 1, 1, 1, 1, 1, 1, 1, 1, 1, 1, 1, 1, 1, 1, 1, 1, 1, 1, 1, 1, 1, 1, 1, 1, 1, 1, 1, 1, 1, 1, 1, 1, 1, 1, 1, 1, 1, 1, 1, 1, 1, 1, 1, 1, 1, 1, 1, 1, 1, 1, 1, 1, 1, 1, 1, 1, 1, 1, 1, 1, 1, 1, 1, 1, 1, 1, 1, 1, 1, 1, 1, 1, 1, 1, 1, 1, 1, 1, 1, 1, 1, 1, 1, 1, 1, 1, 1, 1, 1, 1, 1, 1, 1, 1, 1, 1, 1, 1, 1, 1, 1, 1, 1, 1, 1, 1, 1, 1, 1, 1, 1, 1, 1, 1, 1, 1, 1, 1, 1, 1, 1]]), ('input_ids', [[101, 1622, 1103, 1304, 2150, 117, 1103, 1741, 3815, 1104, 1142, 1273, 1110, 1177, 5119, 1105, 2302, 3541, 117, 1115, 1103, 9386, 1110, 3665, 24017, 119, 6291, 1363, 18977, 1113, 2269, 10850, 1116, 1209, 19961, 6440, 1158, 1104, 2650, 117, 14239, 1959, 10591, 1116, 117, 1105, 1210, 2496, 2401, 119, 1130, 1142, 1273, 1128, 1209, 1525, 3839, 1104, 1115, 119, 1109, 2021, 1132, 1103, 2213, 10831, 117, 1105, 14007, 1132, 2602, 1112, 8327, 117, 1107, 8178, 12924, 3452, 1105, 24362, 1116, 119, 1135, 1309, 3093, 1106, 4467, 1106, 1103, 12525, 1104, 1142, 1273, 1115, 2021, 1547, 1129, 6565, 1895, 4037, 1150, 1267, 4577, 1103, 2021, 1112, 170, 1363, 1236, 1106, 8681, 1106, 1103, 1218, 16791, 2118, 1104, 2808, 119, 133, 9304, 120, 135, 133, 9304, 120, 135, 1109, 15403, 3370, 1185, 3767, 1106, 1294, 1146, 1117, 1137, 1123, 1713, 1113, 2480, 13105, 4368, 1110, 170, 1363, 2564, 1137, 170, 20871, 14081, 119, 1109, 1273, 7086, 1114, 1140, 1217, 3950, 1111, 11569, 170, 3241, 117, 1133, 1195, 1243, 1185, 9956, 1112, 1106, 1117, 8169, 1137, 15025, 119, 1284, 1267, 1140, 2647, 1194, 1103, 1442, 1104, 170, 176, 9513, 1233, 117, 1133, 1178, 1221, 1115, 1119, 1144, 1151, 1656, 1111, 1210, 1201, 1165, 1195, 2100, 1142, 1277, 1224, 1107, 1199, 8556, 119, 133, 9304, 120, 135, 133, 9304, 120, 135, 1188, 1273, 2515, 1242, 6981, 1104, 13105, 1702, 1120, 1103, 4504, 1114, 170, 3021, 2838, 119, 146, 1276, 1103, 1273, 170, 1842, 22572, 4474, 1106, 2824, 119, 1135, 1110, 1103, 2447, 1111, 2030, 2441, 117, 1105, 1142, 1141, 1508, 1143, 1228, 2903, 1251, 1167, 119, 102], [101, 146, 3319, 146, 1108, 5666, 1106, 1142, 1273, 1241, 1272, 1104, 1103, 1839, 1104, 1103, 1642, 1105, 1103, 2020, 2811, 117, 1177, 146, 1522, 1122, 170, 2640, 117, 1121, 1900, 18123, 4421, 113, 6911, 16587, 114, 119, 11568, 2716, 13105, 4368, 113, 10640, 18657, 2895, 114, 1110, 1383, 1146, 1118, 1103, 2021, 117, 2108, 12987, 3720, 18146, 113, 10985, 10357, 114, 117, 1119, 1110, 2257, 1106, 1301, 1113, 1103, 1576, 5071, 170, 6939, 1105, 1301, 1222, 1172, 1106, 2330, 1117, 1319, 1105, 1117, 1266, 112, 188, 2666, 119, 1337, 112, 188, 1541, 1155, 146, 1169, 1474, 1164, 1103, 1642, 117, 1112, 146, 1445, 112, 189, 6573, 1103, 1554, 2556, 2209, 1106, 1129, 7345, 119, 2907, 3937, 9906, 19169, 1112, 2419, 15635, 117, 13042, 15215, 1112, 5829, 6816, 117, 10833, 14477, 1179, 4371, 1112, 4317, 4368, 117, 4367, 6523, 25711, 2605, 1112, 3036, 7103, 117, 8773, 10403, 11530, 1112, 6619, 1153, 14791, 3069, 117, 14477, 2047, 23994, 4982, 1112, 16113, 17355, 5745, 17015, 117, 11253, 16752, 3842, 1112, 5036, 4368, 117, 5590, 21197, 1112, 4378, 4368, 1105, 4858, 24293, 1112, 5640, 2796, 119, 18657, 2895, 2228, 170, 2785, 1363, 2099, 117, 1111, 1184, 1122, 112, 188, 3869, 117, 1105, 1103, 1273, 1674, 1138, 1122, 112, 188, 2552, 118, 9256, 4899, 117, 2521, 1114, 170, 2560, 2321, 2019, 1103, 1322, 117, 1133, 146, 1169, 112, 189, 1474, 146, 4927, 1122, 1112, 146, 1238, 112, 189, 1440, 1120, 1122, 1155, 119, 3956, 106, 102], [101, 146, 1274, 112, 189, 2385, 1243, 1103, 5261, 1111, 1109, 7277, 11745, 4808, 1105, 146, 1341, 146, 1108, 155, 12420, 23955, 3663, 1912, 2368, 1122, 170, 125, 1149, 1104, 1275, 119, 1327, 1180, 4303, 1138, 1151, 170, 7310, 1642, 1114, 2140, 170, 1383, 1104, 1167, 1137, 1750, 11858, 5681, 1245, 170, 1703, 1677, 2093, 1107, 1139, 1257, 119, 1247, 1132, 1177, 1242, 172, 16879, 10051, 1107, 1115, 22302, 117, 1103, 1535, 112, 188, 1716, 1110, 1198, 9684, 1105, 1211, 1104, 1103, 4429, 1132, 1167, 1190, 8362, 16330, 5562, 1137, 3166, 8406, 119, 1247, 112, 188, 1185, 1842, 7615, 1107, 1142, 2523, 1133, 170, 9670, 1104, 5681, 1166, 118, 3176, 1166, 1251, 6263, 1115, 1122, 15483, 119, 1135, 112, 188, 1136, 6276, 1536, 1106, 1129, 170, 3789, 117, 1122, 112, 188, 1315, 8406, 118, 6782, 1106, 1541, 2828, 117, 1177, 1107, 1139, 1257, 1122, 112, 188, 1198, 1136, 1363, 119, 21570, 1122, 146, 1577, 112, 189, 2059, 1293, 1380, 1176, 1115, 1189, 1122, 1106, 1139, 1794, 1383, 1107, 1139, 1690, 1395, 1107, 4507, 119, 1252, 119, 119, 2654, 1122, 1253, 1108, 10899, 1105, 1122, 1198, 1400, 1575, 1107, 5179, 136, 2627, 3520, 119, 3177, 16598, 3150, 1193, 1141, 1104, 1103, 5849, 2556, 5558, 146, 112, 1396, 1518, 1562, 1105, 1142, 4664, 1136, 1107, 170, 1363, 1236, 106, 6502, 119, 102], [101, 1188, 2523, 1108, 9684, 119, 1109, 3830, 1108, 7284, 9210, 119, 1247, 1108, 1185, 4928, 1106, 1103, 2523, 20748, 119, 1109, 1178, 1645, 1115, 1108, 11858, 1164, 1103, 2523, 1108, 1103, 3176, 1694, 1118, 1823, 12786, 2559, 5727, 1105, 1600, 4008, 2690, 119, 2397, 3853, 1127, 6548, 106, 1109, 1178, 2463, 1108, 1115, 1103, 2523, 1225, 1136, 1202, 1147, 3176, 3853, 1251, 5299, 119, 1409, 1103, 5444, 1156, 1138, 1435, 1601, 1106, 12203, 170, 9079, 11858, 1642, 117, 1122, 1156, 1129, 3869, 2903, 119, 3743, 117, 1823, 12786, 2559, 5727, 112, 188, 1105, 1600, 4008, 2690, 112, 3853, 1132, 2423, 15445, 1113, 170, 5540, 9684, 9844, 119, 119, 119, 1137, 2960, 24234, 119, 1753, 1178, 1108, 146, 1286, 2613, 2032, 1103, 2523, 1111, 1380, 1106, 3333, 1106, 1294, 1103, 2523, 119, 119, 119, 119, 1218, 1126, 4315, 2523, 119, 119, 119, 1136, 1198, 15462, 2008, 17693, 8032, 1206, 2650, 1111, 1184, 2207, 1146, 1217, 7284, 1185, 2255, 119, 1135, 1108, 1720, 1167, 1190, 1887, 17693, 8032, 1115, 1156, 1138, 1678, 1282, 1171, 1107, 1115, 1669, 1104, 1159, 119, 1247, 1108, 1720, 1957, 1164, 1251, 1104, 1103, 2650, 119, 1109, 1178, 1645, 1957, 1108, 1293, 1823, 12786, 2559, 5727, 6313, 170, 26084, 6647, 117, 14516, 2605, 1513, 117, 6882, 117, 1385, 1299, 119, 4302, 11649, 5940, 1219, 1103, 2072, 2523, 1259, 1103, 1322, 119, 1332, 1103, 2523, 2207, 117, 146, 2068, 16603, 119, 119, 119, 16603, 1115, 146, 2068, 1194, 1103, 2072, 2523, 2613, 1111, 1380, 1104, 2199, 1106, 3333, 1106, 1294, 2903, 1103, 2523, 3869, 1229, 119, 1135, 1309, 2171, 106, 1109, 2641, 1104, 2650, 2840, 1408, 6362, 1543, 1122, 6281, 1115, 1103, 2523, 1541, 1108, 1166, 1105, 146, 2788, 1115, 146, 1125, 1198, 15445, 123, 2005, 1104, 1139, 1297, 2903, 170, 2523, 1114, 7284, 1185, 4928, 1105, 1185, 2764, 119, 1135, 1445, 112, 189, 1256, 170, 1642, 119, 1109, 2072, 2523, 2274, 1282, 1107, 170, 1285, 112, 188, 3869, 1104, 1159, 119, 1337, 112, 188, 1122, 119, 1135, 1108, 1141, 1285, 1107, 1103, 1297, 113, 1105, 1473, 114, 1104, 1199, 2685, 1468, 1113, 170, 12739, 119, 1731, 1277, 1104, 170, 1642, 1169, 1321, 1282, 1107, 170, 1423, 1285, 113, 1168, 1190, 1103, 2523, 5513, 2295, 114, 136, 1109, 3176, 3853, 1118, 1103, 2072, 2641, 1127, 6548, 117, 1133, 1152, 1127, 10272, 1193, 15445, 1113, 1216, 170, 10866, 1104, 170, 2523, 119, 119, 119, 1191, 1128, 1169, 1256, 1840, 1122, 170, 2523, 119, 102], [101, 3930, 11074, 119, 1188, 1108, 1103, 4997, 1273, 146, 1138, 1562, 1107, 170, 1263, 1159, 119, 1398, 1103, 3853, 1132, 2503, 117, 1133, 1175, 1110, 1185, 4928, 119, 8762, 106, 1302, 4928, 106, 138, 9670, 1104, 25778, 1116, 2037, 1164, 1142, 1105, 1115, 1105, 1115, 112, 188, 1240, 1273, 119, 158, 1403, 119, 119, 119, 1823, 27281, 1233, 112, 188, 1959, 1110, 14516, 2605, 1513, 1105, 7634, 4107, 1103, 1269, 1234, 1103, 1269, 186, 2556, 5266, 1166, 1105, 1166, 119, 1188, 7379, 1116, 1140, 1103, 1269, 11317, 1166, 1105, 1166, 119, 146, 1821, 2785, 1612, 1142, 1273, 1400, 1146, 2430, 170, 1565, 1272, 1234, 1341, 1152, 1431, 1176, 1122, 119, 2750, 3853, 1114, 2505, 1105, 1218, 4485, 5681, 117, 1133, 1103, 4315, 2335, 1250, 1110, 170, 5543, 1183, 189, 2149, 1181, 119, 2119, 117, 2654, 1115, 112, 188, 170, 2113, 1260, 17046, 1290, 5543, 4703, 1121, 170, 4489, 8501, 3807, 170, 1376, 1176, 1380, 5664, 1105, 1107, 1142, 1273, 24819, 24162, 15740, 145, 12240, 2101, 11680, 1708, 106, 17784, 2158, 102]]), ('label', [0, 0, 0, 0, 0]), ('token_type_ids', [[0, 0, 0, 0, 0, 0, 0, 0, 0, 0, 0, 0, 0, 0, 0, 0, 0, 0, 0, 0, 0, 0, 0, 0, 0, 0, 0, 0, 0, 0, 0, 0, 0, 0, 0, 0, 0, 0, 0, 0, 0, 0, 0, 0, 0, 0, 0, 0, 0, 0, 0, 0, 0, 0, 0, 0, 0, 0, 0, 0, 0, 0, 0, 0, 0, 0, 0, 0, 0, 0, 0, 0, 0, 0, 0, 0, 0, 0, 0, 0, 0, 0, 0, 0, 0, 0, 0, 0, 0, 0, 0, 0, 0, 0, 0, 0, 0, 0, 0, 0, 0, 0, 0, 0, 0, 0, 0, 0, 0, 0, 0, 0, 0, 0, 0, 0, 0, 0, 0, 0, 0, 0, 0, 0, 0, 0, 0, 0, 0, 0, 0, 0, 0, 0, 0, 0, 0, 0, 0, 0, 0, 0, 0, 0, 0, 0, 0, 0, 0, 0, 0, 0, 0, 0, 0, 0, 0, 0, 0, 0, 0, 0, 0, 0, 0, 0, 0, 0, 0, 0, 0, 0, 0, 0, 0, 0, 0, 0, 0, 0, 0, 0, 0, 0, 0, 0, 0, 0, 0, 0, 0, 0, 0, 0, 0, 0, 0, 0, 0, 0, 0, 0, 0, 0, 0, 0, 0, 0, 0, 0, 0, 0, 0, 0, 0, 0, 0, 0, 0, 0, 0, 0, 0, 0, 0, 0, 0, 0, 0, 0, 0, 0, 0, 0, 0, 0, 0, 0, 0, 0, 0, 0, 0, 0, 0, 0, 0, 0, 0, 0, 0, 0, 0, 0, 0, 0, 0, 0, 0, 0, 0, 0, 0, 0], [0, 0, 0, 0, 0, 0, 0, 0, 0, 0, 0, 0, 0, 0, 0, 0, 0, 0, 0, 0, 0, 0, 0, 0, 0, 0, 0, 0, 0, 0, 0, 0, 0, 0, 0, 0, 0, 0, 0, 0, 0, 0, 0, 0, 0, 0, 0, 0, 0, 0, 0, 0, 0, 0, 0, 0, 0, 0, 0, 0, 0, 0, 0, 0, 0, 0, 0, 0, 0, 0, 0, 0, 0, 0, 0, 0, 0, 0, 0, 0, 0, 0, 0, 0, 0, 0, 0, 0, 0, 0, 0, 0, 0, 0, 0, 0, 0, 0, 0, 0, 0, 0, 0, 0, 0, 0, 0, 0, 0, 0, 0, 0, 0, 0, 0, 0, 0, 0, 0, 0, 0, 0, 0, 0, 0, 0, 0, 0, 0, 0, 0, 0, 0, 0, 0, 0, 0, 0, 0, 0, 0, 0, 0, 0, 0, 0, 0, 0, 0, 0, 0, 0, 0, 0, 0, 0, 0, 0, 0, 0, 0, 0, 0, 0, 0, 0, 0, 0, 0, 0, 0, 0, 0, 0, 0, 0, 0, 0, 0, 0, 0, 0, 0, 0, 0, 0, 0, 0, 0, 0, 0, 0, 0, 0, 0, 0, 0, 0, 0, 0, 0, 0, 0, 0, 0, 0, 0, 0, 0, 0, 0, 0, 0, 0, 0, 0, 0, 0, 0, 0, 0, 0, 0, 0, 0, 0, 0, 0, 0, 0, 0, 0, 0, 0, 0, 0, 0, 0, 0, 0, 0, 0], [0, 0, 0, 0, 0, 0, 0, 0, 0, 0, 0, 0, 0, 0, 0, 0, 0, 0, 0, 0, 0, 0, 0, 0, 0, 0, 0, 0, 0, 0, 0, 0, 0, 0, 0, 0, 0, 0, 0, 0, 0, 0, 0, 0, 0, 0, 0, 0, 0, 0, 0, 0, 0, 0, 0, 0, 0, 0, 0, 0, 0, 0, 0, 0, 0, 0, 0, 0, 0, 0, 0, 0, 0, 0, 0, 0, 0, 0, 0, 0, 0, 0, 0, 0, 0, 0, 0, 0, 0, 0, 0, 0, 0, 0, 0, 0, 0, 0, 0, 0, 0, 0, 0, 0, 0, 0, 0, 0, 0, 0, 0, 0, 0, 0, 0, 0, 0, 0, 0, 0, 0, 0, 0, 0, 0, 0, 0, 0, 0, 0, 0, 0, 0, 0, 0, 0, 0, 0, 0, 0, 0, 0, 0, 0, 0, 0, 0, 0, 0, 0, 0, 0, 0, 0, 0, 0, 0, 0, 0, 0, 0, 0, 0, 0, 0, 0, 0, 0, 0, 0, 0, 0, 0, 0, 0, 0, 0, 0, 0, 0, 0, 0, 0, 0, 0, 0, 0, 0, 0, 0, 0, 0, 0, 0, 0, 0, 0, 0, 0, 0, 0, 0, 0, 0, 0, 0, 0, 0, 0, 0, 0, 0, 0, 0, 0, 0, 0, 0, 0, 0], [0, 0, 0, 0, 0, 0, 0, 0, 0, 0, 0, 0, 0, 0, 0, 0, 0, 0, 0, 0, 0, 0, 0, 0, 0, 0, 0, 0, 0, 0, 0, 0, 0, 0, 0, 0, 0, 0, 0, 0, 0, 0, 0, 0, 0, 0, 0, 0, 0, 0, 0, 0, 0, 0, 0, 0, 0, 0, 0, 0, 0, 0, 0, 0, 0, 0, 0, 0, 0, 0, 0, 0, 0, 0, 0, 0, 0, 0, 0, 0, 0, 0, 0, 0, 0, 0, 0, 0, 0, 0, 0, 0, 0, 0, 0, 0, 0, 0, 0, 0, 0, 0, 0, 0, 0, 0, 0, 0, 0, 0, 0, 0, 0, 0, 0, 0, 0, 0, 0, 0, 0, 0, 0, 0, 0, 0, 0, 0, 0, 0, 0, 0, 0, 0, 0, 0, 0, 0, 0, 0, 0, 0, 0, 0, 0, 0, 0, 0, 0, 0, 0, 0, 0, 0, 0, 0, 0, 0, 0, 0, 0, 0, 0, 0, 0, 0, 0, 0, 0, 0, 0, 0, 0, 0, 0, 0, 0, 0, 0, 0, 0, 0, 0, 0, 0, 0, 0, 0, 0, 0, 0, 0, 0, 0, 0, 0, 0, 0, 0, 0, 0, 0, 0, 0, 0, 0, 0, 0, 0, 0, 0, 0, 0, 0, 0, 0, 0, 0, 0, 0, 0, 0, 0, 0, 0, 0, 0, 0, 0, 0, 0, 0, 0, 0, 0, 0, 0, 0, 0, 0, 0, 0, 0, 0, 0, 0, 0, 0, 0, 0, 0, 0, 0, 0, 0, 0, 0, 0, 0, 0, 0, 0, 0, 0, 0, 0, 0, 0, 0, 0, 0, 0, 0, 0, 0, 0, 0, 0, 0, 0, 0, 0, 0, 0, 0, 0, 0, 0, 0, 0, 0, 0, 0, 0, 0, 0, 0, 0, 0, 0, 0, 0, 0, 0, 0, 0, 0, 0, 0, 0, 0, 0, 0, 0, 0, 0, 0, 0, 0, 0, 0, 0, 0, 0, 0, 0, 0, 0, 0, 0, 0, 0, 0, 0, 0, 0, 0, 0, 0, 0, 0, 0, 0, 0, 0, 0, 0, 0, 0, 0, 0, 0, 0, 0, 0, 0, 0, 0, 0, 0, 0, 0, 0, 0, 0, 0, 0, 0, 0, 0, 0, 0, 0, 0, 0, 0, 0, 0, 0, 0, 0, 0, 0, 0, 0, 0, 0, 0, 0, 0, 0, 0, 0, 0, 0, 0, 0, 0, 0, 0, 0, 0, 0, 0, 0], [0, 0, 0, 0, 0, 0, 0, 0, 0, 0, 0, 0, 0, 0, 0, 0, 0, 0, 0, 0, 0, 0, 0, 0, 0, 0, 0, 0, 0, 0, 0, 0, 0, 0, 0, 0, 0, 0, 0, 0, 0, 0, 0, 0, 0, 0, 0, 0, 0, 0, 0, 0, 0, 0, 0, 0, 0, 0, 0, 0, 0, 0, 0, 0, 0, 0, 0, 0, 0, 0, 0, 0, 0, 0, 0, 0, 0, 0, 0, 0, 0, 0, 0, 0, 0, 0, 0, 0, 0, 0, 0, 0, 0, 0, 0, 0, 0, 0, 0, 0, 0, 0, 0, 0, 0, 0, 0, 0, 0, 0, 0, 0, 0, 0, 0, 0, 0, 0, 0, 0, 0, 0, 0, 0, 0, 0, 0, 0, 0, 0, 0, 0, 0, 0, 0, 0, 0, 0, 0, 0, 0, 0, 0, 0, 0, 0, 0, 0, 0, 0, 0, 0, 0, 0, 0, 0, 0, 0, 0, 0, 0, 0, 0, 0, 0, 0, 0, 0, 0, 0, 0, 0]])])"
            ]
          },
          "metadata": {},
          "execution_count": 76
        }
      ]
    },
    {
      "cell_type": "code",
      "source": [
        "batch = data_collator(samples)\n",
        "{k: v.shape for k, v in batch.items()}"
      ],
      "metadata": {
        "colab": {
          "base_uri": "https://localhost:8080/"
        },
        "id": "ZXBJ6rleYcz_",
        "outputId": "cf9de933-3cc1-4d74-a366-34f1f1c62323"
      },
      "execution_count": 77,
      "outputs": [
        {
          "output_type": "execute_result",
          "data": {
            "text/plain": [
              "{'attention_mask': torch.Size([5, 405]),\n",
              " 'input_ids': torch.Size([5, 405]),\n",
              " 'labels': torch.Size([5]),\n",
              " 'token_type_ids': torch.Size([5, 405])}"
            ]
          },
          "metadata": {},
          "execution_count": 77
        }
      ]
    },
    {
      "cell_type": "code",
      "source": [
        "batch['input_ids'].shape"
      ],
      "metadata": {
        "colab": {
          "base_uri": "https://localhost:8080/"
        },
        "id": "_7pWQvrAdJmI",
        "outputId": "a7ddf592-895c-41a8-fd28-5fc7352662e1"
      },
      "execution_count": 83,
      "outputs": [
        {
          "output_type": "execute_result",
          "data": {
            "text/plain": [
              "torch.Size([5, 405])"
            ]
          },
          "metadata": {},
          "execution_count": 83
        }
      ]
    },
    {
      "cell_type": "code",
      "source": [
        "tokenized_datasets"
      ],
      "metadata": {
        "colab": {
          "base_uri": "https://localhost:8080/"
        },
        "id": "x7yj3OoNeoXU",
        "outputId": "6fb5e448-f750-41e0-dae7-d027c6828f29"
      },
      "execution_count": 88,
      "outputs": [
        {
          "output_type": "execute_result",
          "data": {
            "text/plain": [
              "DatasetDict({\n",
              "    train: Dataset({\n",
              "        features: ['attention_mask', 'input_ids', 'label', 'text', 'token_type_ids'],\n",
              "        num_rows: 25000\n",
              "    })\n",
              "    test: Dataset({\n",
              "        features: ['attention_mask', 'input_ids', 'label', 'text', 'token_type_ids'],\n",
              "        num_rows: 25000\n",
              "    })\n",
              "    unsupervised: Dataset({\n",
              "        features: ['attention_mask', 'input_ids', 'label', 'text', 'token_type_ids'],\n",
              "        num_rows: 50000\n",
              "    })\n",
              "})"
            ]
          },
          "metadata": {},
          "execution_count": 88
        }
      ]
    },
    {
      "cell_type": "code",
      "source": [
        "tokenized_datasets = raw_datasets.map(tokenize_function, batched=True)\n",
        "tokenized_datasets = tokenized_datasets.remove_columns([\"text\"])\n",
        "tokenized_datasets = tokenized_datasets.rename_column(\"label\", \"labels\")\n",
        "tokenized_datasets = tokenized_datasets.with_format(\"torch\")"
      ],
      "metadata": {
        "colab": {
          "base_uri": "https://localhost:8080/"
        },
        "id": "1ufYXgNVdf7i",
        "outputId": "08ce6938-889b-4bf8-daa3-31f0a5d57cc1"
      },
      "execution_count": 98,
      "outputs": [
        {
          "output_type": "stream",
          "name": "stderr",
          "text": [
            "Loading cached processed dataset at /root/.cache/huggingface/datasets/imdb/plain_text/1.0.0/2fdd8b9bcadd6e7055e742a706876ba43f19faee861df134affd7a3f60fc38a1/cache-2e62f0ab8c508204.arrow\n",
            "Loading cached processed dataset at /root/.cache/huggingface/datasets/imdb/plain_text/1.0.0/2fdd8b9bcadd6e7055e742a706876ba43f19faee861df134affd7a3f60fc38a1/cache-614cb30183d4c548.arrow\n",
            "Loading cached processed dataset at /root/.cache/huggingface/datasets/imdb/plain_text/1.0.0/2fdd8b9bcadd6e7055e742a706876ba43f19faee861df134affd7a3f60fc38a1/cache-693a51f9e09c7b07.arrow\n"
          ]
        }
      ]
    },
    {
      "cell_type": "code",
      "source": [
        "tokenized_datasets[\"train\"]"
      ],
      "metadata": {
        "colab": {
          "base_uri": "https://localhost:8080/"
        },
        "id": "lCnGb0T0fPeu",
        "outputId": "1db13ff9-49c8-4034-8cdf-fb87bef56294"
      },
      "execution_count": 99,
      "outputs": [
        {
          "output_type": "execute_result",
          "data": {
            "text/plain": [
              "Dataset({\n",
              "    features: ['attention_mask', 'input_ids', 'labels', 'token_type_ids'],\n",
              "    num_rows: 25000\n",
              "})"
            ]
          },
          "metadata": {},
          "execution_count": 99
        }
      ]
    },
    {
      "cell_type": "code",
      "source": [
        "train_dataloader = DataLoader(tokenized_datasets[\"train\"], batch_size=16, shuffle=True, collate_fn=data_collator)\n",
        "\n",
        "for step, batch in enumerate(train_dataloader):\n",
        "    print(batch[\"input_ids\"].shape)\n",
        "    if step > 5:\n",
        "        break"
      ],
      "metadata": {
        "colab": {
          "base_uri": "https://localhost:8080/"
        },
        "id": "uidkVLfhTbpS",
        "outputId": "eb81295b-5f25-48a7-f5be-dfa1f2dead34"
      },
      "execution_count": 101,
      "outputs": [
        {
          "output_type": "stream",
          "name": "stdout",
          "text": [
            "torch.Size([16, 512])\n",
            "torch.Size([16, 512])\n",
            "torch.Size([16, 512])\n",
            "torch.Size([16, 512])\n",
            "torch.Size([16, 512])\n",
            "torch.Size([16, 512])\n",
            "torch.Size([16, 512])\n"
          ]
        }
      ]
    },
    {
      "cell_type": "markdown",
      "metadata": {
        "id": "sU62FhUAkEqg"
      },
      "source": [
        "You can learn more about the map method or the other ways to preprocess the data in the 🤗 Datasets [documentation](https://huggingface.co/docs/datasets/).\n",
        "\n",
        "Next we will generate a small subset of the training and validation set, to enable faster training:"
      ]
    },
    {
      "cell_type": "code",
      "execution_count": null,
      "metadata": {
        "id": "dRo_oj6NkEqg"
      },
      "outputs": [],
      "source": [
        "small_train_dataset = tokenized_datasets[\"train\"].shuffle(seed=42).select(range(1000)) \n",
        "small_eval_dataset = tokenized_datasets[\"test\"].shuffle(seed=42).select(range(1000)) \n",
        "full_train_dataset = tokenized_datasets[\"train\"]\n",
        "full_eval_dataset = tokenized_datasets[\"test\"]"
      ]
    },
    {
      "cell_type": "markdown",
      "metadata": {
        "id": "4mZoUl3akEqh"
      },
      "source": [
        "In all the examples below, we will always use `small_train_dataset` and `small_eval_dataset`. Just replace\n",
        "them by their _full_ equivalent to train or evaluate on the full dataset.\n",
        "\n",
        "<a id='trainer'></a>"
      ]
    },
    {
      "cell_type": "markdown",
      "metadata": {
        "id": "tAivm2HQkEqh"
      },
      "source": [
        "## Fine-tuning in PyTorch with the Trainer API"
      ]
    },
    {
      "cell_type": "code",
      "execution_count": null,
      "metadata": {
        "cellView": "form",
        "hide_input": true,
        "id": "45-SXI0PkEqh",
        "outputId": "6ede2673-2e11-4542-d094-8b40b6753e80"
      },
      "outputs": [
        {
          "data": {
            "text/html": [
              "<iframe width=\"560\" height=\"315\" src=\"https://www.youtube.com/embed/nvBXf7s7vTI?rel=0&amp;controls=0&amp;showinfo=0\" frameborder=\"0\" allowfullscreen></iframe>"
            ],
            "text/plain": [
              "<IPython.core.display.HTML object>"
            ]
          },
          "execution_count": null,
          "metadata": {},
          "output_type": "execute_result"
        }
      ],
      "source": [
        "#@title\n",
        "from IPython.display import HTML\n",
        "\n",
        "HTML('<iframe width=\"560\" height=\"315\" src=\"https://www.youtube.com/embed/nvBXf7s7vTI?rel=0&amp;controls=0&amp;showinfo=0\" frameborder=\"0\" allowfullscreen></iframe>')"
      ]
    },
    {
      "cell_type": "markdown",
      "metadata": {
        "id": "ZD5l3GmOkEqh"
      },
      "source": [
        "Since PyTorch does not provide a training loop, the 🤗 Transformers library provides a [Trainer](https://huggingface.co/docs/transformers/master/en/main_classes/trainer#transformers.Trainer)\n",
        "API that is optimized for 🤗 Transformers models, with a wide range of training options and with built-in features like\n",
        "logging, gradient accumulation, and mixed precision.\n",
        "\n",
        "First, let's define our model:"
      ]
    },
    {
      "cell_type": "code",
      "execution_count": null,
      "metadata": {
        "id": "XHpbng2MkEqh"
      },
      "outputs": [],
      "source": [
        "model = AutoModelForSequenceClassification.from_pretrained(\"bert-base-cased\", num_labels=2)"
      ]
    },
    {
      "cell_type": "markdown",
      "metadata": {
        "id": "hIC1KE2lkEqi"
      },
      "source": [
        "This will issue a warning about some of the pretrained weights not being used and some weights being randomly\n",
        "initialized. That's because we are throwing away the pretraining head of the BERT model to replace it with a\n",
        "classification head which is randomly initialized. We will fine-tune this model on our task, transferring the knowledge\n",
        "of the pretrained model to it (which is why doing this is called transfer learning).\n",
        "\n",
        "Then, to define our [Trainer](https://huggingface.co/docs/transformers/master/en/main_classes/trainer#transformers.Trainer), we will need to instantiate a\n",
        "[TrainingArguments](https://huggingface.co/docs/transformers/master/en/main_classes/trainer#transformers.TrainingArguments). This class contains all the hyperparameters we can tune for the\n",
        "[Trainer](https://huggingface.co/docs/transformers/master/en/main_classes/trainer#transformers.Trainer) or the flags to activate the different training options it supports. Let's begin by\n",
        "using all the defaults, the only thing we then have to provide is a directory in which the checkpoints will be saved:"
      ]
    },
    {
      "cell_type": "code",
      "execution_count": null,
      "metadata": {
        "id": "yfZWAGZ2kEqi"
      },
      "outputs": [],
      "source": [
        "training_args = TrainingArguments(\"test_trainer\")"
      ]
    },
    {
      "cell_type": "markdown",
      "metadata": {
        "id": "c1qU8mGrkEqi"
      },
      "source": [
        "Then we can instantiate a [Trainer](https://huggingface.co/docs/transformers/master/en/main_classes/trainer#transformers.Trainer) like this:"
      ]
    },
    {
      "cell_type": "code",
      "execution_count": null,
      "metadata": {
        "id": "T634olDDkEqi"
      },
      "outputs": [],
      "source": [
        "trainer = Trainer(\n",
        "    model=model, args=training_args, train_dataset=small_train_dataset, eval_dataset=small_eval_dataset\n",
        ")"
      ]
    },
    {
      "cell_type": "markdown",
      "metadata": {
        "id": "BytCFtYfkEqj"
      },
      "source": [
        "To fine-tune our model, we just need to call"
      ]
    },
    {
      "cell_type": "code",
      "execution_count": null,
      "metadata": {
        "id": "KMBOPgeTkEqj"
      },
      "outputs": [],
      "source": [
        "trainer.train()"
      ]
    },
    {
      "cell_type": "markdown",
      "metadata": {
        "id": "Ihd-77sYkEqj"
      },
      "source": [
        "which will start a training that you can follow with a progress bar, which should take a couple of minutes to complete\n",
        "(as long as you have access to a GPU). It won't actually tell you anything useful about how well (or badly) your model\n",
        "is performing however as by default, there is no evaluation during training, and we didn't tell the\n",
        "[Trainer](https://huggingface.co/docs/transformers/master/en/main_classes/trainer#transformers.Trainer) to compute any metrics. Let's have a look on how to do that now!\n",
        "\n",
        "To have the [Trainer](https://huggingface.co/docs/transformers/master/en/main_classes/trainer#transformers.Trainer) compute and report metrics, we need to give it a `compute_metrics`\n",
        "function that takes predictions and labels (grouped in a namedtuple called [EvalPrediction](https://huggingface.co/docs/transformers/master/en/internal/trainer_utils#transformers.EvalPrediction)) and\n",
        "return a dictionary with string items (the metric names) and float values (the metric values).\n",
        "\n",
        "The 🤗 Datasets library provides an easy way to get the common metrics used in NLP with the `load_metric` function.\n",
        "here we simply use accuracy. Then we define the `compute_metrics` function that just convert logits to predictions\n",
        "(remember that all 🤗 Transformers models return the logits) and feed them to `compute` method of this metric."
      ]
    },
    {
      "cell_type": "code",
      "execution_count": null,
      "metadata": {
        "id": "0xeKa4qFkEqj"
      },
      "outputs": [],
      "source": [
        "metric = load_metric(\"accuracy\")\n",
        "\n",
        "def compute_metrics(eval_pred):\n",
        "    logits, labels = eval_pred\n",
        "    predictions = np.argmax(logits, axis=-1)\n",
        "    return metric.compute(predictions=predictions, references=labels)"
      ]
    },
    {
      "cell_type": "markdown",
      "metadata": {
        "id": "MPXzbTRtkEqj"
      },
      "source": [
        "The compute function needs to receive a tuple (with logits and labels) and has to return a dictionary with string keys\n",
        "(the name of the metric) and float values. It will be called at the end of each evaluation phase on the whole arrays of\n",
        "predictions/labels.\n",
        "\n",
        "To check if this works on practice, let's create a new [Trainer](https://huggingface.co/docs/transformers/master/en/main_classes/trainer#transformers.Trainer) with our fine-tuned model:"
      ]
    },
    {
      "cell_type": "code",
      "execution_count": null,
      "metadata": {
        "id": "LzLL_yD2kEqj"
      },
      "outputs": [],
      "source": [
        "trainer = Trainer(\n",
        "    model=model,\n",
        "    args=training_args,\n",
        "    train_dataset=small_train_dataset,\n",
        "    eval_dataset=small_eval_dataset,\n",
        "    compute_metrics=compute_metrics,\n",
        ")\n",
        "trainer.evaluate()"
      ]
    },
    {
      "cell_type": "markdown",
      "metadata": {
        "id": "Xz1yLSyAkEqj"
      },
      "source": [
        "which showed an accuracy of 87.5% in our case.\n",
        "\n",
        "If you want to fine-tune your model and regularly report the evaluation metrics (for instance at the end of each\n",
        "epoch), here is how you should define your training arguments:"
      ]
    },
    {
      "cell_type": "code",
      "execution_count": null,
      "metadata": {
        "id": "ZyFjMk31kEqk"
      },
      "outputs": [],
      "source": [
        "training_args = TrainingArguments(\"test_trainer\", evaluation_strategy=\"epoch\")"
      ]
    },
    {
      "cell_type": "markdown",
      "metadata": {
        "id": "mxRgf7rXkEqk"
      },
      "source": [
        "See the documentation of [TrainingArguments](https://huggingface.co/docs/transformers/master/en/main_classes/trainer#transformers.TrainingArguments) for more options.\n",
        "\n",
        "\n",
        "<a id='keras'></a>"
      ]
    },
    {
      "cell_type": "markdown",
      "metadata": {
        "id": "GINwBYkQkEqn"
      },
      "source": [
        "<a id='pytorch_native'></a>"
      ]
    },
    {
      "cell_type": "markdown",
      "metadata": {
        "id": "zIxSDd3rkEqn"
      },
      "source": [
        "## Fine-tuning in native PyTorch"
      ]
    },
    {
      "cell_type": "code",
      "execution_count": null,
      "metadata": {
        "cellView": "form",
        "hide_input": true,
        "id": "TIKzT6KgkEqn",
        "outputId": "7ad4a72a-c054-4bc8-a778-6fb3a6329d1d"
      },
      "outputs": [
        {
          "data": {
            "text/html": [
              "<iframe width=\"560\" height=\"315\" src=\"https://www.youtube.com/embed/Dh9CL8fyG80?rel=0&amp;controls=0&amp;showinfo=0\" frameborder=\"0\" allowfullscreen></iframe>"
            ],
            "text/plain": [
              "<IPython.core.display.HTML object>"
            ]
          },
          "execution_count": null,
          "metadata": {},
          "output_type": "execute_result"
        }
      ],
      "source": [
        "#@title\n",
        "from IPython.display import HTML\n",
        "\n",
        "HTML('<iframe width=\"560\" height=\"315\" src=\"https://www.youtube.com/embed/Dh9CL8fyG80?rel=0&amp;controls=0&amp;showinfo=0\" frameborder=\"0\" allowfullscreen></iframe>')"
      ]
    },
    {
      "cell_type": "markdown",
      "metadata": {
        "id": "oT7Ewv5IkEqn"
      },
      "source": [
        "You might need to restart your notebook at this stage to free some memory, or execute the following code:"
      ]
    },
    {
      "cell_type": "code",
      "execution_count": null,
      "metadata": {
        "id": "WFSWl3HtkEqn"
      },
      "outputs": [],
      "source": [
        "del model\n",
        "del pytorch_model\n",
        "del trainer\n",
        "torch.cuda.empty_cache()"
      ]
    },
    {
      "cell_type": "markdown",
      "metadata": {
        "id": "Klt2Aq9MkEqn"
      },
      "source": [
        "Let's now see how to achieve the same results as in [trainer section](#trainer) in PyTorch. First we need to\n",
        "define the dataloaders, which we will use to iterate over batches. We just need to apply a bit of post-processing to\n",
        "our `tokenized_datasets` before doing that to:\n",
        "\n",
        "- remove the columns corresponding to values the model does not expect (here the `\"text\"` column)\n",
        "- rename the column `\"label\"` to `\"labels\"` (because the model expect the argument to be named `labels`)\n",
        "- set the format of the datasets so they return PyTorch Tensors instead of lists.\n",
        "\n",
        "Our _tokenized_datasets_ has one method for each of those steps:"
      ]
    },
    {
      "cell_type": "code",
      "execution_count": null,
      "metadata": {
        "id": "PL_0XkrqkEqo"
      },
      "outputs": [],
      "source": [
        "tokenized_datasets = tokenized_datasets.remove_columns([\"text\"])\n",
        "tokenized_datasets = tokenized_datasets.rename_column(\"label\", \"labels\")\n",
        "tokenized_datasets.set_format(\"torch\")\n",
        "\n",
        "small_train_dataset = tokenized_datasets[\"train\"].shuffle(seed=42).select(range(1000))\n",
        "small_eval_dataset = tokenized_datasets[\"test\"].shuffle(seed=42).select(range(1000))"
      ]
    },
    {
      "cell_type": "markdown",
      "metadata": {
        "id": "Z1y_KkqskEqo"
      },
      "source": [
        "Now that this is done, we can easily define our dataloaders:"
      ]
    },
    {
      "cell_type": "code",
      "execution_count": null,
      "metadata": {
        "id": "9fa1p5B2kEqo"
      },
      "outputs": [],
      "source": [
        "from torch.utils.data import DataLoader\n",
        "\n",
        "train_dataloader = DataLoader(small_train_dataset, shuffle=True, batch_size=8)\n",
        "eval_dataloader = DataLoader(small_eval_dataset, batch_size=8)"
      ]
    },
    {
      "cell_type": "markdown",
      "metadata": {
        "id": "PCD39hfqkEqo"
      },
      "source": [
        "Next, we define our model:"
      ]
    },
    {
      "cell_type": "code",
      "execution_count": null,
      "metadata": {
        "id": "roYSIpURkEqo"
      },
      "outputs": [],
      "source": [
        "from transformers import AutoModelForSequenceClassification\n",
        "\n",
        "model = AutoModelForSequenceClassification.from_pretrained(\"bert-base-cased\", num_labels=2)"
      ]
    },
    {
      "cell_type": "markdown",
      "metadata": {
        "id": "FHiwHtGxkEqo"
      },
      "source": [
        "We are almost ready to write our training loop, the only two things are missing are an optimizer and a learning rate\n",
        "scheduler. The default optimizer used by the [Trainer](https://huggingface.co/docs/transformers/master/en/main_classes/trainer#transformers.Trainer) is [AdamW](https://huggingface.co/docs/transformers/master/en/main_classes/optimizer_schedules#transformers.AdamW):"
      ]
    },
    {
      "cell_type": "code",
      "execution_count": null,
      "metadata": {
        "id": "YwhlMJV7kEqo"
      },
      "outputs": [],
      "source": [
        "from transformers import AdamW\n",
        "\n",
        "optimizer = AdamW(model.parameters(), lr=5e-5)"
      ]
    },
    {
      "cell_type": "markdown",
      "metadata": {
        "id": "mEpJISnYkEqp"
      },
      "source": [
        "Finally, the learning rate scheduler used by default is just a linear decay from the maximum value (5e-5 here) to 0:"
      ]
    },
    {
      "cell_type": "code",
      "execution_count": null,
      "metadata": {
        "id": "zqIWNZuTkEqp"
      },
      "outputs": [],
      "source": [
        "from transformers import get_scheduler\n",
        "\n",
        "num_epochs = 3\n",
        "num_training_steps = num_epochs * len(train_dataloader)\n",
        "lr_scheduler = get_scheduler(\n",
        "    \"linear\",\n",
        "    optimizer=optimizer,\n",
        "    num_warmup_steps=0,\n",
        "    num_training_steps=num_training_steps\n",
        ")"
      ]
    },
    {
      "cell_type": "markdown",
      "metadata": {
        "id": "5w0P61ylkEqp"
      },
      "source": [
        "One last thing, we will want to use the GPU if we have access to one (otherwise training might take several hours\n",
        "instead of a couple of minutes). To do this, we define a `device` we will put our model and our batches on."
      ]
    },
    {
      "cell_type": "code",
      "execution_count": null,
      "metadata": {
        "id": "nWdxDH6ckEqp"
      },
      "outputs": [],
      "source": [
        "import torch\n",
        "\n",
        "device = torch.device(\"cuda\") if torch.cuda.is_available() else torch.device(\"cpu\")\n",
        "model.to(device)"
      ]
    },
    {
      "cell_type": "markdown",
      "metadata": {
        "id": "41sLrF2HkEqp"
      },
      "source": [
        "We now are ready to train! To get some sense of when it will be finished, we add a progress bar over our number of\n",
        "training steps, using the _tqdm_ library."
      ]
    },
    {
      "cell_type": "code",
      "execution_count": null,
      "metadata": {
        "id": "zBoxjUTMkEqp"
      },
      "outputs": [],
      "source": [
        "from tqdm.auto import tqdm\n",
        "\n",
        "progress_bar = tqdm(range(num_training_steps))\n",
        "\n",
        "model.train()\n",
        "for epoch in range(num_epochs):\n",
        "    for batch in train_dataloader:\n",
        "        batch = {k: v.to(device) for k, v in batch.items()}\n",
        "        outputs = model(**batch)\n",
        "        loss = outputs.loss\n",
        "        loss.backward()\n",
        "\n",
        "        optimizer.step()\n",
        "        lr_scheduler.step()\n",
        "        optimizer.zero_grad()\n",
        "        progress_bar.update(1)"
      ]
    },
    {
      "cell_type": "markdown",
      "metadata": {
        "id": "b-Dno-6JkEqp"
      },
      "source": [
        "Note that if you are used to freezing the body of your pretrained model (like in computer vision) the above may seem a\n",
        "bit strange, as we are directly fine-tuning the whole model without taking any precaution. It actually works better\n",
        "this way for Transformers model (so this is not an oversight on our side). If you're not familiar with what \"freezing\n",
        "the body\" of the model means, forget you read this paragraph.\n",
        "\n",
        "Now to check the results, we need to write the evaluation loop. Like in the [trainer section](#trainer) we will\n",
        "use a metric from the datasets library. Here we accumulate the predictions at each batch before computing the final\n",
        "result when the loop is finished."
      ]
    },
    {
      "cell_type": "code",
      "execution_count": null,
      "metadata": {
        "id": "yeb59NAwkEqp"
      },
      "outputs": [],
      "source": [
        "metric= load_metric(\"accuracy\")\n",
        "model.eval()\n",
        "for batch in eval_dataloader:\n",
        "    batch = {k: v.to(device) for k, v in batch.items()}\n",
        "    with torch.no_grad():\n",
        "        outputs = model(**batch)\n",
        "\n",
        "    logits = outputs.logits\n",
        "    predictions = torch.argmax(logits, dim=-1)\n",
        "    metric.add_batch(predictions=predictions, references=batch[\"labels\"])\n",
        "\n",
        "metric.compute()"
      ]
    },
    {
      "cell_type": "markdown",
      "metadata": {
        "id": "VusjjxNakEqn"
      },
      "source": [
        "With the tight interoperability between TensorFlow and PyTorch models, you can even save the model and then reload it\n",
        "as a PyTorch model (or vice-versa):"
      ]
    },
    {
      "cell_type": "code",
      "execution_count": null,
      "metadata": {
        "id": "5nY9PTt1kEqn"
      },
      "outputs": [],
      "source": [
        "from transformers import AutoModelForSequenceClassification\n",
        "\n",
        "model.save_pretrained(\"my_imdb_model\")\n",
        "tensorflow_model = AutoModelForSequenceClassification.from_pretrained(\"my_imdb_model\", from_pt=True)"
      ]
    },
    {
      "cell_type": "markdown",
      "metadata": {
        "id": "yAUYJKzLkEqq"
      },
      "source": [
        "<a id='additional-resources'></a>"
      ]
    },
    {
      "cell_type": "markdown",
      "metadata": {
        "id": "hfYaHZNtkEqq"
      },
      "source": [
        "## Additional resources"
      ]
    },
    {
      "cell_type": "markdown",
      "metadata": {
        "id": "IX3Wza0NkEqq"
      },
      "source": [
        "To look at more fine-tuning examples you can refer to:\n",
        "\n",
        "- [🤗 Transformers Examples](https://github.com/huggingface/transformers/tree/master/examples) which includes scripts\n",
        "  to train on all common NLP tasks in PyTorch and TensorFlow.\n",
        "\n",
        "- [🤗 Transformers Notebooks](https://huggingface.co/docs/transformers/master/en/notebooks) which contains various notebooks and in particular one per task (look for\n",
        "  the _how to finetune a model on xxx_)."
      ]
    }
  ],
  "metadata": {
    "colab": {
      "name": "02-Fine-Tuning-with-Huggingface-Transformers.ipynb",
      "provenance": [],
      "collapsed_sections": [
        "hfYaHZNtkEqq"
      ],
      "machine_shape": "hm",
      "include_colab_link": true
    },
    "accelerator": "GPU",
    "language_info": {
      "name": "python"
    },
    "kernelspec": {
      "name": "python3",
      "display_name": "Python 3"
    },
    "widgets": {
      "application/vnd.jupyter.widget-state+json": {
        "7d1f7ccfa98e4abab5a7334197cd8b89": {
          "model_module": "@jupyter-widgets/controls",
          "model_name": "HBoxModel",
          "model_module_version": "1.5.0",
          "state": {
            "_view_name": "HBoxView",
            "_dom_classes": [],
            "_model_name": "HBoxModel",
            "_view_module": "@jupyter-widgets/controls",
            "_model_module_version": "1.5.0",
            "_view_count": null,
            "_view_module_version": "1.5.0",
            "box_style": "",
            "layout": "IPY_MODEL_27546cb762b348ec9aa916212a88460a",
            "_model_module": "@jupyter-widgets/controls",
            "children": [
              "IPY_MODEL_ac5d7e797c5f40a9a34ca843706672f6",
              "IPY_MODEL_7f790352bf96477596a89ed9987f8282",
              "IPY_MODEL_63cce633f4ee42a4b45ec91297facf68"
            ]
          }
        },
        "27546cb762b348ec9aa916212a88460a": {
          "model_module": "@jupyter-widgets/base",
          "model_name": "LayoutModel",
          "model_module_version": "1.2.0",
          "state": {
            "_view_name": "LayoutView",
            "grid_template_rows": null,
            "right": null,
            "justify_content": null,
            "_view_module": "@jupyter-widgets/base",
            "overflow": null,
            "_model_module_version": "1.2.0",
            "_view_count": null,
            "flex_flow": null,
            "width": null,
            "min_width": null,
            "border": null,
            "align_items": null,
            "bottom": null,
            "_model_module": "@jupyter-widgets/base",
            "top": null,
            "grid_column": null,
            "overflow_y": null,
            "overflow_x": null,
            "grid_auto_flow": null,
            "grid_area": null,
            "grid_template_columns": null,
            "flex": null,
            "_model_name": "LayoutModel",
            "justify_items": null,
            "grid_row": null,
            "max_height": null,
            "align_content": null,
            "visibility": null,
            "align_self": null,
            "height": null,
            "min_height": null,
            "padding": null,
            "grid_auto_rows": null,
            "grid_gap": null,
            "max_width": null,
            "order": null,
            "_view_module_version": "1.2.0",
            "grid_template_areas": null,
            "object_position": null,
            "object_fit": null,
            "grid_auto_columns": null,
            "margin": null,
            "display": null,
            "left": null
          }
        },
        "ac5d7e797c5f40a9a34ca843706672f6": {
          "model_module": "@jupyter-widgets/controls",
          "model_name": "HTMLModel",
          "model_module_version": "1.5.0",
          "state": {
            "_view_name": "HTMLView",
            "style": "IPY_MODEL_bf57298f127c473fadf52c2d3b406f55",
            "_dom_classes": [],
            "description": "",
            "_model_name": "HTMLModel",
            "placeholder": "​",
            "_view_module": "@jupyter-widgets/controls",
            "_model_module_version": "1.5.0",
            "value": "100%",
            "_view_count": null,
            "_view_module_version": "1.5.0",
            "description_tooltip": null,
            "_model_module": "@jupyter-widgets/controls",
            "layout": "IPY_MODEL_95390c2486a44266a65dbd07a9dd3729"
          }
        },
        "7f790352bf96477596a89ed9987f8282": {
          "model_module": "@jupyter-widgets/controls",
          "model_name": "FloatProgressModel",
          "model_module_version": "1.5.0",
          "state": {
            "_view_name": "ProgressView",
            "style": "IPY_MODEL_58e63c7f718b4a9fab7838f3f5b91607",
            "_dom_classes": [],
            "description": "",
            "_model_name": "FloatProgressModel",
            "bar_style": "success",
            "max": 3,
            "_view_module": "@jupyter-widgets/controls",
            "_model_module_version": "1.5.0",
            "value": 3,
            "_view_count": null,
            "_view_module_version": "1.5.0",
            "orientation": "horizontal",
            "min": 0,
            "description_tooltip": null,
            "_model_module": "@jupyter-widgets/controls",
            "layout": "IPY_MODEL_a57841b1fb9b449383ffe3e910980171"
          }
        },
        "63cce633f4ee42a4b45ec91297facf68": {
          "model_module": "@jupyter-widgets/controls",
          "model_name": "HTMLModel",
          "model_module_version": "1.5.0",
          "state": {
            "_view_name": "HTMLView",
            "style": "IPY_MODEL_80d671b824bd42ce8027481bfa05aa3b",
            "_dom_classes": [],
            "description": "",
            "_model_name": "HTMLModel",
            "placeholder": "​",
            "_view_module": "@jupyter-widgets/controls",
            "_model_module_version": "1.5.0",
            "value": " 3/3 [00:00&lt;00:00, 93.32it/s]",
            "_view_count": null,
            "_view_module_version": "1.5.0",
            "description_tooltip": null,
            "_model_module": "@jupyter-widgets/controls",
            "layout": "IPY_MODEL_6951a02ff8bf4c0880ff5cd4a2079507"
          }
        },
        "bf57298f127c473fadf52c2d3b406f55": {
          "model_module": "@jupyter-widgets/controls",
          "model_name": "DescriptionStyleModel",
          "model_module_version": "1.5.0",
          "state": {
            "_view_name": "StyleView",
            "_model_name": "DescriptionStyleModel",
            "description_width": "",
            "_view_module": "@jupyter-widgets/base",
            "_model_module_version": "1.5.0",
            "_view_count": null,
            "_view_module_version": "1.2.0",
            "_model_module": "@jupyter-widgets/controls"
          }
        },
        "95390c2486a44266a65dbd07a9dd3729": {
          "model_module": "@jupyter-widgets/base",
          "model_name": "LayoutModel",
          "model_module_version": "1.2.0",
          "state": {
            "_view_name": "LayoutView",
            "grid_template_rows": null,
            "right": null,
            "justify_content": null,
            "_view_module": "@jupyter-widgets/base",
            "overflow": null,
            "_model_module_version": "1.2.0",
            "_view_count": null,
            "flex_flow": null,
            "width": null,
            "min_width": null,
            "border": null,
            "align_items": null,
            "bottom": null,
            "_model_module": "@jupyter-widgets/base",
            "top": null,
            "grid_column": null,
            "overflow_y": null,
            "overflow_x": null,
            "grid_auto_flow": null,
            "grid_area": null,
            "grid_template_columns": null,
            "flex": null,
            "_model_name": "LayoutModel",
            "justify_items": null,
            "grid_row": null,
            "max_height": null,
            "align_content": null,
            "visibility": null,
            "align_self": null,
            "height": null,
            "min_height": null,
            "padding": null,
            "grid_auto_rows": null,
            "grid_gap": null,
            "max_width": null,
            "order": null,
            "_view_module_version": "1.2.0",
            "grid_template_areas": null,
            "object_position": null,
            "object_fit": null,
            "grid_auto_columns": null,
            "margin": null,
            "display": null,
            "left": null
          }
        },
        "58e63c7f718b4a9fab7838f3f5b91607": {
          "model_module": "@jupyter-widgets/controls",
          "model_name": "ProgressStyleModel",
          "model_module_version": "1.5.0",
          "state": {
            "_view_name": "StyleView",
            "_model_name": "ProgressStyleModel",
            "description_width": "",
            "_view_module": "@jupyter-widgets/base",
            "_model_module_version": "1.5.0",
            "_view_count": null,
            "_view_module_version": "1.2.0",
            "bar_color": null,
            "_model_module": "@jupyter-widgets/controls"
          }
        },
        "a57841b1fb9b449383ffe3e910980171": {
          "model_module": "@jupyter-widgets/base",
          "model_name": "LayoutModel",
          "model_module_version": "1.2.0",
          "state": {
            "_view_name": "LayoutView",
            "grid_template_rows": null,
            "right": null,
            "justify_content": null,
            "_view_module": "@jupyter-widgets/base",
            "overflow": null,
            "_model_module_version": "1.2.0",
            "_view_count": null,
            "flex_flow": null,
            "width": null,
            "min_width": null,
            "border": null,
            "align_items": null,
            "bottom": null,
            "_model_module": "@jupyter-widgets/base",
            "top": null,
            "grid_column": null,
            "overflow_y": null,
            "overflow_x": null,
            "grid_auto_flow": null,
            "grid_area": null,
            "grid_template_columns": null,
            "flex": null,
            "_model_name": "LayoutModel",
            "justify_items": null,
            "grid_row": null,
            "max_height": null,
            "align_content": null,
            "visibility": null,
            "align_self": null,
            "height": null,
            "min_height": null,
            "padding": null,
            "grid_auto_rows": null,
            "grid_gap": null,
            "max_width": null,
            "order": null,
            "_view_module_version": "1.2.0",
            "grid_template_areas": null,
            "object_position": null,
            "object_fit": null,
            "grid_auto_columns": null,
            "margin": null,
            "display": null,
            "left": null
          }
        },
        "80d671b824bd42ce8027481bfa05aa3b": {
          "model_module": "@jupyter-widgets/controls",
          "model_name": "DescriptionStyleModel",
          "model_module_version": "1.5.0",
          "state": {
            "_view_name": "StyleView",
            "_model_name": "DescriptionStyleModel",
            "description_width": "",
            "_view_module": "@jupyter-widgets/base",
            "_model_module_version": "1.5.0",
            "_view_count": null,
            "_view_module_version": "1.2.0",
            "_model_module": "@jupyter-widgets/controls"
          }
        },
        "6951a02ff8bf4c0880ff5cd4a2079507": {
          "model_module": "@jupyter-widgets/base",
          "model_name": "LayoutModel",
          "model_module_version": "1.2.0",
          "state": {
            "_view_name": "LayoutView",
            "grid_template_rows": null,
            "right": null,
            "justify_content": null,
            "_view_module": "@jupyter-widgets/base",
            "overflow": null,
            "_model_module_version": "1.2.0",
            "_view_count": null,
            "flex_flow": null,
            "width": null,
            "min_width": null,
            "border": null,
            "align_items": null,
            "bottom": null,
            "_model_module": "@jupyter-widgets/base",
            "top": null,
            "grid_column": null,
            "overflow_y": null,
            "overflow_x": null,
            "grid_auto_flow": null,
            "grid_area": null,
            "grid_template_columns": null,
            "flex": null,
            "_model_name": "LayoutModel",
            "justify_items": null,
            "grid_row": null,
            "max_height": null,
            "align_content": null,
            "visibility": null,
            "align_self": null,
            "height": null,
            "min_height": null,
            "padding": null,
            "grid_auto_rows": null,
            "grid_gap": null,
            "max_width": null,
            "order": null,
            "_view_module_version": "1.2.0",
            "grid_template_areas": null,
            "object_position": null,
            "object_fit": null,
            "grid_auto_columns": null,
            "margin": null,
            "display": null,
            "left": null
          }
        }
      }
    }
  },
  "nbformat": 4,
  "nbformat_minor": 0
}